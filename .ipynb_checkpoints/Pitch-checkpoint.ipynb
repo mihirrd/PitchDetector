{
 "cells": [
  {
   "cell_type": "code",
   "execution_count": 1,
   "metadata": {},
   "outputs": [],
   "source": [
    "## Importing necessary files\n",
    "\n",
    "import librosa, librosa.display\n",
    "import matplotlib.pyplot as plt\n",
    "import numpy as np\n"
   ]
  },
  {
   "cell_type": "code",
   "execution_count": 2,
   "metadata": {},
   "outputs": [
    {
     "name": "stderr",
     "output_type": "stream",
     "text": [
      "/Users/mihir/opt/anaconda3/lib/python3.8/site-packages/librosa/core/audio.py:162: UserWarning: PySoundFile failed. Trying audioread instead.\n",
      "  warnings.warn(\"PySoundFile failed. Trying audioread instead.\")\n"
     ]
    }
   ],
   "source": [
    "file = \"D.mp3\"\n",
    "signal,sr = librosa.load(file, sr = 44100)\n",
    "\n",
    "# Frequency transformation\n",
    "fft = np.fft.fft(signal)\n",
    "magnitude = np.abs(fft)\n",
    "frequency = np.linspace(0,sr,len(magnitude))\n"
   ]
  },
  {
   "cell_type": "code",
   "execution_count": 4,
   "metadata": {},
   "outputs": [
    {
     "data": {
      "text/plain": [
       "Text(0.5, 1.0, 'fft analysis')"
      ]
     },
     "execution_count": 4,
     "metadata": {},
     "output_type": "execute_result"
    },
    {
     "data": {
      "image/png": "[encoded data removed]",
      "text/plain": [
       "<Figure size 360x360 with 1 Axes>"
      ]
     },
     "metadata": {
      "needs_background": "light"
     },
     "output_type": "display_data"
    }
   ],
   "source": [
    "\n",
    "## Cutting out the right part of the graph to make it easy for computations\n",
    "left_magnitude = magnitude[:int(len(frequency)/2)]\n",
    "left_frequency = frequency[:int(len(frequency)/2)]\n",
    "\n",
    " ## Plotting the graph\n",
    "plt.figure(figsize = (5,5))\n",
    "plt.plot(left_frequency, left_magnitude)\n",
    "plt.xlabel(\"Frequency\")\n",
    "plt.ylabel(\"Magnitude\")\n",
    "plt.title(\"fft analysis\")"
   ]
  },
  {
   "cell_type": "code",
   "execution_count": 5,
   "metadata": {},
   "outputs": [],
   "source": [
    "\n",
    "## Scale dict stores frequencies of the of scales\n",
    "Scales = {\n",
    "    \n",
    "    \"D\" :[73.42,146.83,293.66,587.33,1174.66],\n",
    "    \"D#\":[77.78,155.56,311.13,622.25,1244.51],\n",
    "    \"E\" :[82.41,164.81,329.63,659.25,1318.51],\n",
    "    \"F\" :[87.31,174.61,349.23,698.46,1396.91],\n",
    "    \"F#\":[92.50,185.00,369.99,739.99,1479.98],\n",
    "    \"G\" :[98.00,196.00,392.00,783.99,1567.98],\n",
    "    \"G#\":[103.83,207.65,415.30,830.61,1661.22],\n",
    "    \"A\" :[110.00,220.00,440.00,880.00,1760.00],\n",
    "    \"A#\":[116.54,233.08,466.16,932.33,1864.66],\n",
    "    \"B\" :[123.47,246.94,493.88,987.77,1975.53],\n",
    "    \"C\" :[65.41,130.81,261.63,523.25,1046.50],\n",
    "    \"C#\":[69.30,138.59,277.18,554.37,1108.73]\n",
    "}"
   ]
  },
  {
   "cell_type": "code",
   "execution_count": 8,
   "metadata": {},
   "outputs": [],
   "source": [
    "\n",
    "max_index = np.argwhere(left_magnitude == max(left_magnitude))\n",
    "fundamental_freq = left_frequency[max_index]\n",
    "fundamental_freq[0][0] ##fundamental frequency of the sound\n",
    "##argwhere returns 2d array with single element. [0][0] gives out the no present in array\n",
    "\n",
    "\n",
    "## List that stores the numerical difference between fundamental freq and freqs present in Scale dict. \n",
    "diff = [] \n",
    "for i in Scales.keys():\n",
    "    for j in Scales.get(i):\n",
    "        diff.append(abs(fundamental_freq[0][0] -j)) \n",
    "            \n",
    "                   \n",
    "\n",
    "## Finds min of list \n",
    "diff = np.asarray(diff)      \n",
    "m = min(diff)\n",
    "    "
   ]
  },
  {
   "cell_type": "code",
   "execution_count": 9,
   "metadata": {},
   "outputs": [
    {
     "name": "stdout",
     "output_type": "stream",
     "text": [
      "D\n"
     ]
    }
   ],
   "source": [
    "    \n",
    "## Code to categorize the frequency into proper scale\n",
    "    \n",
    "ind = np.argwhere(diff == m)[0][0] \n",
    "p = int((ind+1)/5) ## divide by 5 because each scale has 5 freqs in Scale dict\n",
    "out_dict={\n",
    "    0:\"D\",1:\"D#\",\n",
    "    2:\"E\",3:\"F\",\n",
    "    4:\"F#\",5:\"G\",\n",
    "    6:\"G#\",7:\"A\",\n",
    "    8:\"A#\",9:\"B\",\n",
    "    10:\"C\",11:\"C#\"   \n",
    "}\n",
    "\n",
    "print(out_dict.get(p))"
   ]
  },
  {
   "cell_type": "code",
   "execution_count": null,
   "metadata": {},
   "outputs": [],
   "source": []
  }
 ],
 "metadata": {
  "kernelspec": {
   "display_name": "Python 3",
   "language": "python",
   "name": "python3"
  },
  "language_info": {
   "codemirror_mode": {
    "name": "ipython",
    "version": 3
   },
   "file_extension": ".py",
   "mimetype": "text/x-python",
   "name": "python",
   "nbconvert_exporter": "python",
   "pygments_lexer": "ipython3",
   "version": "3.8.3"
  }
 },
 "nbformat": 4,
 "nbformat_minor": 4
}
